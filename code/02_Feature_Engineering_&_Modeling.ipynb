{
 "cells": [
  {
   "cell_type": "markdown",
   "id": "1d291061-4c8d-49aa-adbd-8efcf58a2a63",
   "metadata": {},
   "source": [
    "# **<span style=\"font-size:larger;\"> Part 2: <span style=\"color:blue\">Feature Engineering & Modeling</span>** #"
   ]
  },
  {
   "cell_type": "markdown",
   "id": "cc8aa3eb-968d-4afc-8fa5-17a5e3abebdc",
   "metadata": {},
   "source": [
    "# I. Preparing Data"
   ]
  },
  {
   "cell_type": "markdown",
   "id": "e6458307-9247-4917-8a8b-5d243a17b8a1",
   "metadata": {},
   "source": [
    "**Importing Libraries**"
   ]
  },
  {
   "cell_type": "code",
   "execution_count": 3,
   "id": "9f05b4d6-8a98-4012-a0cb-b0053ca434c2",
   "metadata": {},
   "outputs": [],
   "source": [
    "import numpy as np\n",
    "import pandas as pd\n",
    "import matplotlib.pyplot as plt\n",
    "import seaborn as sns\n",
    "\n",
    "from scipy import stats\n",
    "\n",
    "from sklearn.preprocessing import StandardScaler, PolynomialFeatures\n",
    "from sklearn.linear_model import Ridge, Lasso, ElasticNet, LinearRegression, RidgeCV, LassoCV, ElasticNetCV\n",
    "from sklearn.model_selection import cross_val_score, train_test_split\n",
    "\n",
    "pd.set_option('display.max_columns',None)\n",
    "pd.set_option('display.max_rows', None)"
   ]
  },
  {
   "cell_type": "markdown",
   "id": "91a0bdb0-9674-49a9-a319-6c9ff41eea93",
   "metadata": {},
   "source": [
    "**Defining Functions**"
   ]
  },
  {
   "cell_type": "code",
   "execution_count": 4,
   "id": "8ba98b77-f715-442e-b5de-eca20cc0d82d",
   "metadata": {},
   "outputs": [],
   "source": [
    "def regression_metrics(X, y):\n",
    "    import sklearn.metrics as metrics\n",
    "    linreg = LinearRegression()\n",
    "    fit = linreg.fit(X, y)\n",
    "    y_hat = linreg.predict(X)\n",
    "\n",
    "    r_squared = linreg.score(X, y)\n",
    "    mean_squared_err = metrics.mean_squared_error(y, y_hat)\n",
    "    root_mean_squared_err = np.sqrt(mean_squared_err)\n",
    "    mean_abs_err = metrics.mean_absolute_error(y, y_hat)\n",
    "    median_abs_err = metrics.median_absolute_error(y, y_hat)\n",
    "    adj_r_squared = 1 - (1 - r_squared)*(len(y)-1)/(len(y)-X.shape[1]-1)\n",
    "    \n",
    "    \n",
    "    print(\"R-squared: {}\".format(r_squared))\n",
    "    print(\"Adjusted R-squared: {}\".format(adj_r_squared))\n",
    "    print(\"Mean Squared Error: {}\".format(mean_squared_err))\n",
    "    print(\"Root Mean Squared Error: {}\".format(root_mean_squared_err))\n",
    "    print(\"Mean Absolute Error: {}\".format(mean_abs_err))\n",
    "    print(\"Median Absolute Error: {}\".format(median_abs_err))"
   ]
  },
  {
   "cell_type": "markdown",
   "id": "d7595279-857a-4825-8351-5196bef8fdad",
   "metadata": {},
   "source": [
    "**Importing Data**"
   ]
  },
  {
   "cell_type": "code",
   "execution_count": 5,
   "id": "414df985-be11-4ed6-9f12-0ff88be87a90",
   "metadata": {},
   "outputs": [],
   "source": [
    "df = pd.read_csv(\"../datasets/train_final.csv\")\n",
    "df_test = pd.read_csv(\"../datasets/test_final.csv\")"
   ]
  },
  {
   "cell_type": "markdown",
   "id": "6c5f1717-cb1e-4660-989b-15fd2d402b4c",
   "metadata": {},
   "source": [
    "# II. Train Test Split"
   ]
  },
  {
   "cell_type": "code",
   "execution_count": 6,
   "id": "d9a54ca7-c40d-48d5-a2e9-2a36f57cfa71",
   "metadata": {},
   "outputs": [],
   "source": [
    "features = (df.drop(columns = ['SalePrice']).columns)\n",
    "X = df[features]\n",
    "y = df['SalePrice']"
   ]
  },
  {
   "cell_type": "code",
   "execution_count": 7,
   "id": "b36003dd-cf62-42fc-9a54-0694054932a0",
   "metadata": {},
   "outputs": [],
   "source": [
    "X_train, X_test, y_train, y_test = train_test_split(X, y, random_state = 42)"
   ]
  },
  {
   "cell_type": "markdown",
   "id": "ccce9e10-6f47-464a-a652-9ede26871bf6",
   "metadata": {},
   "source": [
    "# III. Scaling Data"
   ]
  },
  {
   "cell_type": "code",
   "execution_count": 8,
   "id": "8a785300-412b-47fe-994e-0c14060f6816",
   "metadata": {},
   "outputs": [],
   "source": [
    "from sklearn.preprocessing import StandardScaler\n",
    "\n",
    "# Instantiate\n",
    "scaler = StandardScaler()\n",
    "\n",
    "Z_train = scaler.fit_transform(X_train)\n",
    "Z_test = scaler.transform(X_test)\n",
    "df_test_sc = scaler.transform(df_test)"
   ]
  },
  {
   "cell_type": "markdown",
   "id": "4a6bcbef-3d12-4259-a8ca-6e2520748596",
   "metadata": {},
   "source": [
    "# IV. Modeling"
   ]
  },
  {
   "cell_type": "markdown",
   "id": "051c4958-1aea-4dba-82bd-092c2741b352",
   "metadata": {},
   "source": [
    "## 1. Baseline Model"
   ]
  },
  {
   "cell_type": "code",
   "execution_count": 9,
   "id": "31729c69-3f6f-4646-9551-6921cf72a358",
   "metadata": {},
   "outputs": [
    {
     "name": "stdout",
     "output_type": "stream",
     "text": [
      "-0.052799545344822674\n",
      "-0.028955636225481918\n"
     ]
    }
   ],
   "source": [
    "# Using a dummy regressor to determine baseline\n",
    "\n",
    "from sklearn.dummy import DummyRegressor\n",
    "\n",
    "dum_reg = DummyRegressor(strategy=\"median\")\n",
    "dum_reg.fit(X_train, y_train)\n",
    "print(dum_reg.score(X_train, y_train))\n",
    "print(dum_reg.score(X_test, y_test))"
   ]
  },
  {
   "cell_type": "code",
   "execution_count": 10,
   "id": "afdc886e-e7d9-4d0a-a262-a6ce27e51b64",
   "metadata": {},
   "outputs": [
    {
     "name": "stdout",
     "output_type": "stream",
     "text": [
      "==== Baseline ====\n",
      "-0.052799545344822674\n",
      "-0.028955636225481918\n",
      "\n"
     ]
    }
   ],
   "source": [
    "print(\" Baseline \".center(18, \"=\"))\n",
    "print(dum_reg.score(X_train, y_train))\n",
    "print(dum_reg.score(X_test, y_test))\n",
    "print()"
   ]
  },
  {
   "cell_type": "markdown",
   "id": "7577f807-406b-4aba-b5f9-19812b24643f",
   "metadata": {},
   "source": [
    "## 2. OLS Model"
   ]
  },
  {
   "cell_type": "code",
   "execution_count": 11,
   "id": "4847e905-0453-4a5c-bb26-e67dbbf2decf",
   "metadata": {},
   "outputs": [
    {
     "data": {
      "text/plain": [
       "LinearRegression()"
      ]
     },
     "execution_count": 11,
     "metadata": {},
     "output_type": "execute_result"
    }
   ],
   "source": [
    "linreg = LinearRegression()\n",
    "linreg.fit(X_train, y_train)"
   ]
  },
  {
   "cell_type": "code",
   "execution_count": 12,
   "id": "8c57a611-f136-434f-ae8b-cd3205c34dcd",
   "metadata": {},
   "outputs": [
    {
     "name": "stdout",
     "output_type": "stream",
     "text": [
      "0.9364654162780442\n",
      "0.9161838724975359\n"
     ]
    }
   ],
   "source": [
    "print(linreg.score(X_train, y_train))\n",
    "print(linreg.score(X_test, y_test))"
   ]
  },
  {
   "cell_type": "code",
   "execution_count": 13,
   "id": "a19b146c-dc99-409a-a1c8-814345cb2ee2",
   "metadata": {},
   "outputs": [
    {
     "name": "stdout",
     "output_type": "stream",
     "text": [
      "==== Baseline ====\n",
      "-0.052799545344822674\n",
      "-0.028955636225481918\n",
      "\n",
      "====== OLS =======\n",
      "0.9364654162780442\n",
      "0.9161838724975359\n",
      "\n"
     ]
    }
   ],
   "source": [
    "print(\" Baseline \".center(18, \"=\"))\n",
    "print(dum_reg.score(X_train, y_train))\n",
    "print(dum_reg.score(X_test, y_test))\n",
    "print()\n",
    "print(\" OLS \".center(18, \"=\"))\n",
    "print(linreg.score(X_train, y_train))\n",
    "print(linreg.score(X_test, y_test))\n",
    "print()"
   ]
  },
  {
   "cell_type": "code",
   "execution_count": 14,
   "id": "cdfddcb0-5cca-4690-8250-b7f962ece7c6",
   "metadata": {},
   "outputs": [],
   "source": [
    "# Creating csv with predictions\n",
    "\n",
    "predictions = linreg.predict(df_test)\n",
    "df_test['SalePrice'] = predictions\n",
    "submissions = df_test[['Id', 'SalePrice']]\n",
    "submissions.to_csv('../datasets/predictions/ols_predictions.csv', index=False)\n",
    "df_test.drop(columns = ['SalePrice'], inplace=True)"
   ]
  },
  {
   "cell_type": "markdown",
   "id": "b5e68388-46b2-4416-b797-8ed3bb107677",
   "metadata": {
    "tags": []
   },
   "source": [
    "## 3. Ridge Model"
   ]
  },
  {
   "cell_type": "markdown",
   "id": "8be8fd13-7b0a-4717-bf3a-e3961850301b",
   "metadata": {},
   "source": [
    "**Unscaled**"
   ]
  },
  {
   "cell_type": "code",
   "execution_count": 15,
   "id": "0491ef65-00ad-47d3-a32f-372f0acb8031",
   "metadata": {},
   "outputs": [],
   "source": [
    "from sklearn.linear_model import RidgeCV, Ridge"
   ]
  },
  {
   "cell_type": "code",
   "execution_count": 16,
   "id": "c1a479c3-2378-4226-a8a1-748900d00902",
   "metadata": {},
   "outputs": [
    {
     "name": "stdout",
     "output_type": "stream",
     "text": [
      "0.9320143077908145\n",
      "0.9218224123735306\n"
     ]
    }
   ],
   "source": [
    "ridge_model = Ridge(alpha=5.7769512)\n",
    "ridge_model.fit(X_train, y_train)\n",
    "\n",
    "print(ridge_model.score(X_train, y_train))\n",
    "print(ridge_model.score(X_test, y_test))"
   ]
  },
  {
   "cell_type": "markdown",
   "id": "2ace96e0-bcb9-49e7-9d2d-67eb10dcbab9",
   "metadata": {},
   "source": [
    "**Scaled**"
   ]
  },
  {
   "cell_type": "code",
   "execution_count": 17,
   "id": "ebc1ea34-5b95-4b21-99dd-60cdb4b5ee55",
   "metadata": {},
   "outputs": [
    {
     "name": "stdout",
     "output_type": "stream",
     "text": [
      "0.9340629404674673\n",
      "0.919937399975405\n"
     ]
    }
   ],
   "source": [
    "ridge_model = Ridge(alpha=137)\n",
    "ridge_model.fit(Z_train, y_train)\n",
    "\n",
    "print(ridge_model.score(Z_train, y_train))\n",
    "print(ridge_model.score(Z_test, y_test))"
   ]
  },
  {
   "cell_type": "markdown",
   "id": "50c17caf-2bba-40cb-b38c-24fd31bddd31",
   "metadata": {},
   "source": [
    "The unscaled data surprisingly preformed better."
   ]
  },
  {
   "cell_type": "code",
   "execution_count": 18,
   "id": "64bfd8e0-763b-4789-89b7-74dc412c51d8",
   "metadata": {},
   "outputs": [
    {
     "name": "stdout",
     "output_type": "stream",
     "text": [
      "==== Baseline ====\n",
      "-0.052799545344822674\n",
      "-0.028955636225481918\n",
      "\n",
      "====== OLS =======\n",
      "0.9364654162780442\n",
      "0.9161838724975359\n",
      "\n",
      "===== Ridge ======\n",
      "0.9320143077908145\n",
      "0.9218224123735306\n"
     ]
    }
   ],
   "source": [
    "ridge_model = Ridge(alpha=5.7769512)\n",
    "ridge_model.fit(X_train, y_train)\n",
    "\n",
    "print(\" Baseline \".center(18, \"=\"))\n",
    "print(dum_reg.score(X_train, y_train))\n",
    "print(dum_reg.score(X_test, y_test))\n",
    "print()\n",
    "print(\" OLS \".center(18, \"=\"))\n",
    "print(linreg.score(X_train, y_train))\n",
    "print(linreg.score(X_test, y_test))\n",
    "print()\n",
    "print(\" Ridge \".center(18, \"=\"))\n",
    "print(ridge_model.score(X_train, y_train))\n",
    "print(ridge_model.score(X_test, y_test))"
   ]
  },
  {
   "cell_type": "code",
   "execution_count": 19,
   "id": "5aa26f26-e8dd-4ad4-b0e3-bf6971101832",
   "metadata": {},
   "outputs": [],
   "source": [
    "# Creating csv with predictions\n",
    "\n",
    "ridge_model = Ridge(alpha=5.81)\n",
    "ridge_model.fit(X_train, y_train)\n",
    "\n",
    "predictions = ridge_model.predict(df_test)\n",
    "df_test['SalePrice'] = predictions\n",
    "submissions = df_test[['Id', 'SalePrice']]\n",
    "submissions.to_csv('../datasets/predictions/ridge_predictions.csv', index=False)\n",
    "df_test.drop(columns = ['SalePrice'], inplace=True)"
   ]
  },
  {
   "cell_type": "markdown",
   "id": "66db7516-7c1d-428b-8931-5685d34289ec",
   "metadata": {},
   "source": [
    "## 4. LASSO Model"
   ]
  },
  {
   "cell_type": "code",
   "execution_count": 20,
   "id": "f43b971a-1b2c-4124-9098-b823b184f8c2",
   "metadata": {},
   "outputs": [],
   "source": [
    "from sklearn.linear_model import Lasso"
   ]
  },
  {
   "cell_type": "markdown",
   "id": "d22c6feb-5df4-4af2-883d-dc73257ed7fe",
   "metadata": {},
   "source": [
    "**Unscaled**"
   ]
  },
  {
   "cell_type": "code",
   "execution_count": 21,
   "id": "b56ef3e0-1cc5-4721-8a4b-e975174952f1",
   "metadata": {},
   "outputs": [
    {
     "name": "stdout",
     "output_type": "stream",
     "text": [
      "0.9334598107896478\n",
      "0.9206734022010482\n"
     ]
    }
   ],
   "source": [
    "lasso = Lasso(alpha=23.9)\n",
    "# Fit model using best ridge alpha!\n",
    "lasso.fit(X_train, y_train);\n",
    "\n",
    "print(lasso.score(X_train, y_train))\n",
    "print(lasso.score(X_test, y_test))"
   ]
  },
  {
   "cell_type": "markdown",
   "id": "543ad5e8-4c9f-4263-90e5-06ab302cff46",
   "metadata": {},
   "source": [
    "**Scaled**"
   ]
  },
  {
   "cell_type": "code",
   "execution_count": 22,
   "id": "eb576a2e-bd9c-46d2-9faf-7024f096d917",
   "metadata": {},
   "outputs": [
    {
     "name": "stdout",
     "output_type": "stream",
     "text": [
      "0.9340485517065752\n",
      "0.9193867455269369\n"
     ]
    }
   ],
   "source": [
    "lasso = Lasso(alpha=196.9)\n",
    "# Fit model using best ridge alpha!\n",
    "lasso.fit(Z_train, y_train);\n",
    "\n",
    "print(lasso.score(Z_train, y_train))\n",
    "print(lasso.score(Z_test, y_test))"
   ]
  },
  {
   "cell_type": "markdown",
   "id": "da6fa367-9e9f-4f4a-8167-01b7c9baac29",
   "metadata": {},
   "source": [
    "The unscaled data surprisingly preformed better."
   ]
  },
  {
   "cell_type": "code",
   "execution_count": 23,
   "id": "192fca39-66e2-41ad-b5eb-6312ca9a8c7f",
   "metadata": {},
   "outputs": [
    {
     "name": "stdout",
     "output_type": "stream",
     "text": [
      "==== Baseline ====\n",
      "-0.052799545344822674\n",
      "-0.028955636225481918\n",
      "\n",
      "====== OLS =======\n",
      "0.9364654162780442\n",
      "0.9161838724975359\n",
      "\n",
      "===== Ridge ======\n",
      "0.9319983643861597\n",
      "0.9218223814338667\n",
      "\n",
      "===== Lasso  =====\n",
      "0.9334598107896478\n",
      "0.9206734022010482\n"
     ]
    }
   ],
   "source": [
    "lasso = Lasso(alpha=23.9)\n",
    "lasso.fit(X_train, y_train);\n",
    "\n",
    "print(\" Baseline \".center(18, \"=\"))\n",
    "print(dum_reg.score(X_train, y_train))\n",
    "print(dum_reg.score(X_test, y_test))\n",
    "print()\n",
    "print(\" OLS \".center(18, \"=\"))\n",
    "print(linreg.score(X_train, y_train))\n",
    "print(linreg.score(X_test, y_test))\n",
    "print()\n",
    "print(\" Ridge \".center(18, \"=\"))\n",
    "print(ridge_model.score(X_train, y_train))\n",
    "print(ridge_model.score(X_test, y_test))\n",
    "print()\n",
    "print(\" Lasso  \".center(18, \"=\"))\n",
    "print(lasso.score(X_train, y_train))\n",
    "print(lasso.score(X_test, y_test))"
   ]
  },
  {
   "cell_type": "code",
   "execution_count": 24,
   "id": "44dc7a98-503d-4d59-be17-9918f943804b",
   "metadata": {},
   "outputs": [],
   "source": [
    "# Creating csv with predictions\n",
    "\n",
    "lasso = Lasso(alpha=23.9)\n",
    "lasso.fit(X_train, y_train);\n",
    "\n",
    "predictions = lasso.predict(df_test)\n",
    "df_test['SalePrice'] = predictions\n",
    "submissions = df_test[['Id', 'SalePrice']]\n",
    "submissions.to_csv('../datasets/predictions/lasso_predictions.csv', index=False)\n",
    "df_test.drop(columns = ['SalePrice'], inplace=True)"
   ]
  },
  {
   "cell_type": "markdown",
   "id": "b85528e7-dd33-41e5-9394-6d040db0e6a4",
   "metadata": {},
   "source": [
    "## 5. ElasticNet Model"
   ]
  },
  {
   "cell_type": "code",
   "execution_count": 25,
   "id": "c0985bca-ee38-4ee5-807c-0490e4d145bd",
   "metadata": {},
   "outputs": [],
   "source": [
    "from sklearn.linear_model import ElasticNet"
   ]
  },
  {
   "cell_type": "markdown",
   "id": "1ab9263e-2446-4528-b485-4da63ca481e3",
   "metadata": {},
   "source": [
    "**Unscaled**"
   ]
  },
  {
   "cell_type": "code",
   "execution_count": 26,
   "id": "5dcf330f-e132-4707-baa7-10db968bf513",
   "metadata": {},
   "outputs": [
    {
     "name": "stdout",
     "output_type": "stream",
     "text": [
      "0.932014227241397\n",
      "0.921822360169946\n"
     ]
    }
   ],
   "source": [
    "enet_model = ElasticNet(alpha=0.007541)\n",
    "enet_model = enet_model.fit(X_train, y_train)\n",
    "\n",
    "print(enet_model.score(X_train, y_train))\n",
    "print(enet_model.score(X_test, y_test))"
   ]
  },
  {
   "cell_type": "markdown",
   "id": "49333d44-0175-4ed0-8fcf-52d84c43e093",
   "metadata": {},
   "source": [
    "**Scaled**"
   ]
  },
  {
   "cell_type": "code",
   "execution_count": 27,
   "id": "de471cf0-2954-47a3-8dbd-a7717324c476",
   "metadata": {},
   "outputs": [
    {
     "name": "stdout",
     "output_type": "stream",
     "text": [
      "0.9340601583571245\n",
      "0.9199381384610146\n"
     ]
    }
   ],
   "source": [
    "enet_model = ElasticNet(alpha=0.179)\n",
    "enet_model = enet_model.fit(Z_train, y_train)\n",
    "\n",
    "print(enet_model.score(Z_train, y_train))\n",
    "print(enet_model.score(Z_test, y_test))"
   ]
  },
  {
   "cell_type": "markdown",
   "id": "67e7ee72-35c1-40a3-8101-d00e4c6f1f1a",
   "metadata": {},
   "source": [
    "The unscaled data surprisingly preformed better."
   ]
  },
  {
   "cell_type": "code",
   "execution_count": 28,
   "id": "38606723-1b46-4ba5-a7dd-5ab6566c1229",
   "metadata": {},
   "outputs": [
    {
     "name": "stdout",
     "output_type": "stream",
     "text": [
      "==== Baseline ====\n",
      "-0.052799545344822674\n",
      "-0.028955636225481918\n",
      "\n",
      "====== OLS =======\n",
      "0.9364654162780442\n",
      "0.9161838724975359\n",
      "\n",
      "===== Ridge ======\n",
      "0.9319983643861597\n",
      "0.9218223814338667\n",
      "\n",
      "===== Lasso  =====\n",
      "0.9334598107896478\n",
      "0.9206734022010482\n",
      "\n",
      "=== ElasticNet ===\n",
      "0.932014227241397\n",
      "0.921822360169946\n"
     ]
    }
   ],
   "source": [
    "enet_model = ElasticNet(alpha=0.007541)\n",
    "enet_model = enet_model.fit(X_train, y_train)\n",
    "\n",
    "print(\" Baseline \".center(18, \"=\"))\n",
    "print(dum_reg.score(X_train, y_train))\n",
    "print(dum_reg.score(X_test, y_test))\n",
    "print()\n",
    "print(\" OLS \".center(18, \"=\"))\n",
    "print(linreg.score(X_train, y_train))\n",
    "print(linreg.score(X_test, y_test))\n",
    "print()\n",
    "print(\" Ridge \".center(18, \"=\"))\n",
    "print(ridge_model.score(X_train, y_train))\n",
    "print(ridge_model.score(X_test, y_test))\n",
    "print()\n",
    "print(\" Lasso  \".center(18, \"=\"))\n",
    "print(lasso.score(X_train, y_train))\n",
    "print(lasso.score(X_test, y_test))\n",
    "print()\n",
    "print(\" ElasticNet \".center(18, \"=\"))\n",
    "print(enet_model.score(X_train, y_train))\n",
    "print(enet_model.score(X_test, y_test))"
   ]
  },
  {
   "cell_type": "code",
   "execution_count": 29,
   "id": "d4e614a0-d108-492a-926a-3f0c90f1da07",
   "metadata": {},
   "outputs": [],
   "source": [
    "# Creating csv with predictions\n",
    "\n",
    "predictions = enet_model.predict(df_test)\n",
    "df_test['SalePrice'] = predictions\n",
    "submissions = df_test[['Id', 'SalePrice']]\n",
    "submissions.to_csv('../datasets/predictions/enet_predictions.csv', index=False)\n",
    "df_test.drop(columns = ['SalePrice'], inplace=True)"
   ]
  },
  {
   "cell_type": "markdown",
   "id": "29de6561-33e6-4fe3-8fe4-6d0d8ed4dbaf",
   "metadata": {},
   "source": [
    "# V. Working with our Best Model"
   ]
  },
  {
   "cell_type": "markdown",
   "id": "7eb746df-0b6a-43a7-810d-4b4bd9e4dc5d",
   "metadata": {},
   "source": [
    "## Model Evaluation"
   ]
  },
  {
   "cell_type": "code",
   "execution_count": 30,
   "id": "fd3e8efb-9f5a-4be0-b3da-ba014f1b98c4",
   "metadata": {},
   "outputs": [
    {
     "name": "stdout",
     "output_type": "stream",
     "text": [
      "0.9320143077908145\n",
      "0.9218224123735306\n"
     ]
    }
   ],
   "source": [
    "ridge_model = Ridge(alpha=5.7769512)\n",
    "ridge_model.fit(X_train, y_train)\n",
    "\n",
    "print(ridge_model.score(X_train, y_train))\n",
    "print(ridge_model.score(X_test, y_test))"
   ]
  },
  {
   "cell_type": "code",
   "execution_count": 31,
   "id": "d9604811-f776-4752-b3d0-e43359436f43",
   "metadata": {},
   "outputs": [],
   "source": [
    "predictions = ridge_model.predict(X_test)"
   ]
  },
  {
   "cell_type": "code",
   "execution_count": 32,
   "id": "9846349d-c928-4991-9c28-87227031e078",
   "metadata": {},
   "outputs": [
    {
     "data": {
      "image/png": "[encoded data removed]",
      "text/plain": [
       "<Figure size 864x576 with 1 Axes>"
      ]
     },
     "metadata": {
      "needs_background": "light"
     },
     "output_type": "display_data"
    }
   ],
   "source": [
    "plt.figure(figsize = (12, 8))\n",
    "plt.scatter(x = y_test, y = predictions, color = 'cornflowerblue', s = 15 )\n",
    "plt.title('Comparison of Actual Price to Predicted Price', fontdict = {'fontsize':15})\n",
    "xpoints = ypoints = plt.xlim() # code borrowed from kilodalton's response on Stack Overflow\n",
    "plt.plot(xpoints, ypoints, linestyle='-', color='indianred', lw=2)\n",
    "plt.xlabel('Actual Price ($)', fontdict= {'fontsize':13})\n",
    "plt.ylabel('Predicted Price ($)', fontdict= {'fontsize':13})\n",
    "plt.tight_layout();\n",
    "\n",
    "plt.savefig('actual_vs_predicted.png', dpi=300)"
   ]
  },
  {
   "cell_type": "markdown",
   "id": "fbc2cdca-4d5a-4389-b528-0cddf306e8ad",
   "metadata": {},
   "source": [
    "## Taking a Look at Our Coefficients"
   ]
  },
  {
   "cell_type": "code",
   "execution_count": 33,
   "id": "7be77a93-a112-4e60-b4c1-39ac2a7469f1",
   "metadata": {},
   "outputs": [],
   "source": [
    "# Creating a dictionary of coefficients\n",
    "\n",
    "coef = (dict(list(zip(X_train.columns, ridge_model.coef_))))"
   ]
  },
  {
   "cell_type": "code",
   "execution_count": 34,
   "id": "d871a832-08fd-4e17-9829-398937cabe25",
   "metadata": {},
   "outputs": [
    {
     "data": {
      "text/plain": [
       "{'Functional_Maj1': -15843.100662911544,\n",
       " 'Roof Style_Mansard': -12648.948688437698,\n",
       " 'Neighborhood_NWAmes': -11695.487688819396,\n",
       " 'Condition 1_RRNn': -11146.859974367746,\n",
       " 'Sale Type_COD': -11019.791637298027,\n",
       " 'Neighborhood_SawyerW': -10399.748779819796,\n",
       " 'Neighborhood_Gilbert': -10096.6311783244,\n",
       " 'Neighborhood_Veenker': -9284.642921517732,\n",
       " 'Garage Type_2Types': -9064.283440306499,\n",
       " 'Kitchen AbvGr': -8587.998130712467,\n",
       " 'Land Contour_Low': -8584.397990691092,\n",
       " 'Condition 1_RRAe': -8309.43605099284,\n",
       " 'Neighborhood_Edwards': -8249.09550214736,\n",
       " 'Neighborhood_NAmes': -8084.658652830305,\n",
       " 'Exterior 1st_BrkComm': -8033.8070881535505,\n",
       " 'Functional_Sev': -7865.032595495678,\n",
       " 'MS SubClass_120': -7715.005050649352,\n",
       " 'Roof Matl_Tar&Grv': -7451.408346190037,\n",
       " 'Bsmt Exposure_Mn': -7134.871605222715,\n",
       " 'Neighborhood_Timber': -7016.83240226975,\n",
       " 'Neighborhood_ClearCr': -6865.038947540283,\n",
       " 'Bsmt Exposure_No': -6359.813432960162,\n",
       " 'Bedroom AbvGr': -6277.240371732967,\n",
       " 'Sale Type_WD ': -6189.396472438618,\n",
       " 'MS SubClass_150': -5977.363059249144,\n",
       " 'Lot Shape_IR3': -5927.69761156298,\n",
       " 'Neighborhood_CollgCr': -5847.714700829516,\n",
       " 'Garage Finish_RFn': -5680.3838879691075,\n",
       " 'Roof Matl_CompShg': -5635.339357542457,\n",
       " 'Condition 1_RRNe': -5285.181573114737,\n",
       " 'Bldg Type_Twnhs': -5067.553904592455,\n",
       " 'Exterior 1st_Wd Sdng': -5062.677578375741,\n",
       " 'Exterior 2nd_CBlock': -4738.038607452892,\n",
       " 'MS SubClass_160': -4684.139720201462,\n",
       " 'Neighborhood_SWISU': -4669.067543915374,\n",
       " 'Exterior 1st_Stone': -4648.296559552231,\n",
       " 'Yr Sold': -4644.579816991622,\n",
       " 'Lot Config_FR3': -4202.085524066641,\n",
       " 'Roof Matl_WdShake': -3919.102884473495,\n",
       " 'MS Zoning_RM': -3878.7921096092973,\n",
       " 'Heating_OthW': -3815.995485806206,\n",
       " 'Full Bath': -3727.661425633865,\n",
       " 'MS Zoning_C (all)': -3626.9974252810066,\n",
       " 'Land Slope_Sev': -3583.7107671474573,\n",
       " 'Condition 2_Artery': -3544.481022883557,\n",
       " 'Neighborhood_Greens': -3542.792914221009,\n",
       " 'Sale Type_ConLD': -3536.30639834494,\n",
       " 'Neighborhood_OldTown': -3389.087351201961,\n",
       " 'House Style_SFoyer': -3237.1525639952056,\n",
       " 'Heating_Grav': -3224.5686863665646,\n",
       " 'Neighborhood_Blmngtn': -3172.2812707151547,\n",
       " 'Exterior 1st_HdBoard': -3168.1067172910357,\n",
       " 'Exterior 2nd_AsbShng': -3164.076397983646,\n",
       " 'MS SubClass_85': -3107.7073703074598,\n",
       " 'Foundation_CBlock': -2940.0770018283242,\n",
       " 'Exterior 2nd_Stone': -2940.006760525142,\n",
       " 'Condition 1_Artery': -2811.577365950859,\n",
       " 'Bsmt Exposure_Av': -2768.3830461597963,\n",
       " 'Mo Sold_2': -2682.596654029174,\n",
       " 'Bldg Type_TwnhsE': -2655.9985738815108,\n",
       " 'Garage Type_CarPort': -2620.0791623371347,\n",
       " 'MS SubClass_190': -2508.4058046072064,\n",
       " 'Condition 2_RRAe': -2334.033011481347,\n",
       " 'Exterior 2nd_Plywood': -2254.533098426385,\n",
       " 'Exterior 1st_Stucco': -2250.0211918144523,\n",
       " 'Paved Drive_N': -2249.3083250055092,\n",
       " 'MS SubClass_60': -2196.8525559051454,\n",
       " 'Central Air_Y': -2143.2524177013365,\n",
       " 'Sale Type_ConLw': -2097.3990164918296,\n",
       " 'Functional_Mod': -2040.9821703332755,\n",
       " 'Bsmt Cond': -2029.4123441594393,\n",
       " 'Neighborhood_Mitchel': -2016.9668821062369,\n",
       " 'Street_Grvl': -2011.6134456069221,\n",
       " 'Roof Style_Shed': -1947.5956092698161,\n",
       " 'House Style_1.5Fin': -1943.9155144605327,\n",
       " 'Foundation_BrkTil': -1937.1206882156762,\n",
       " 'Electrical_FuseA': -1898.5967963676994,\n",
       " 'Electrical_SBrkr': -1888.7348472377303,\n",
       " 'Garage Type_Basment': -1883.6534784059822,\n",
       " 'Neighborhood_Sawyer': -1874.2214661971543,\n",
       " 'Bldg Type_Duplex': -1852.9010762543687,\n",
       " 'MS SubClass_90': -1852.9010762543285,\n",
       " 'Exterior 1st_Plywood': -1807.3103586961931,\n",
       " 'Heating_GasW': -1801.5217707428615,\n",
       " 'Overall Cond': -1737.4551684813196,\n",
       " 'Land Contour_Lvl': -1665.6119599690278,\n",
       " 'Mo Sold_8': -1655.6927782264045,\n",
       " 'MS Zoning_A (agr)': -1625.028501251226,\n",
       " 'Functional_Sal': -1537.053786709424,\n",
       " 'House Style_2.5Fin': -1503.0634944043725,\n",
       " 'Lot Config_Corner': -1491.5420728398906,\n",
       " 'Exterior 2nd_ImStucc': -1461.5183350280302,\n",
       " 'Mo Sold_4': -1433.469847302212,\n",
       " 'Sale Type_ConLI': -1373.9274450994988,\n",
       " 'Neighborhood_IDOTRR': -1319.5255303706915,\n",
       " 'Condition 1_RRAn': -1313.7618400162048,\n",
       " 'Condition 2_Norm': -1220.7436894937193,\n",
       " 'Exterior 1st_WdShing': -1217.68897061785,\n",
       " 'Mo Sold_11': -1166.7738869236111,\n",
       " 'Paved Drive_P': -1046.5899468598968,\n",
       " 'Exter Cond': -1000.1417057122021,\n",
       " 'Mo Sold_12': -999.9543978759534,\n",
       " 'Neighborhood_MeadowV': -994.5457013536558,\n",
       " 'Garage Cond': -959.6247945957628,\n",
       " 'Neighborhood_Somerst': -916.3513022483154,\n",
       " 'Exterior 2nd_Stucco': -857.5652009877701,\n",
       " 'Exterior 1st_MetalSd': -838.0973922999812,\n",
       " 'Exterior 2nd_BrkFace': -808.9060393989186,\n",
       " 'Exterior 1st_ImStucc': -803.3440882991963,\n",
       " 'Condition 2_PosN': -724.1410547463089,\n",
       " 'Bsmt Half Bath': -613.0304319164048,\n",
       " 'exter_condqual': -491.8008262196862,\n",
       " 'MS SubClass_180': -482.183702176616,\n",
       " 'Mo Sold_3': -424.77454607860307,\n",
       " 'Condition 2_RRAn': -395.56868559753616,\n",
       " 'House Style_2Story': -321.4473823755855,\n",
       " 'Condition 1_Feedr': -286.22789917468435,\n",
       " 'Exterior 2nd_HdBoard': -284.15091618709306,\n",
       " 'BsmtFin Type 1': -279.48229684473716,\n",
       " 'Exterior 2nd_Brk Cmn': -214.54929143309022,\n",
       " 'Foundation_Wood': -137.8908322827267,\n",
       " 'Mo Sold_10': -73.37732136638722,\n",
       " 'Garage Yr Blt': -16.975942184592483,\n",
       " 'Id': -7.554979560392609,\n",
       " 'Low Qual Fin SF': -3.870510103683075,\n",
       " 'BsmtFin SF 2': -2.9219765117117475,\n",
       " 'Neighborhood_Landmrk': 0.0,\n",
       " 'Roof Matl_Metal': 0.0,\n",
       " 'Roof Matl_Roll': 0.0,\n",
       " 'Exterior 1st_AsphShn': 0.0,\n",
       " 'Exterior 1st_PreCast': 0.0,\n",
       " 'Exterior 2nd_Other': 0.0,\n",
       " 'Exterior 2nd_PreCast': 0.0,\n",
       " 'Heating_Floor': 0.0,\n",
       " 'Electrical_NA': 0.0,\n",
       " 'Sale Type_VWD': 0.0,\n",
       " 'Misc Val': 0.12269396429650091,\n",
       " 'Lot Area': 1.0234544984580156,\n",
       " 'Bsmt Unf SF': 1.2898498610011724,\n",
       " 'Enclosed Porch': 2.886923740798135,\n",
       " 'Wood Deck SF': 8.526866733740416,\n",
       " 'Lot Config_FR2': 10.141576219478765,\n",
       " 'Pool Area': 11.39623952977032,\n",
       " 'Open Porch SF': 12.390766900333674,\n",
       " '3Ssn Porch': 14.883414434749996,\n",
       " '1st Flr SF': 15.895467406994097,\n",
       " 'Garage Area': 17.71885445931557,\n",
       " '2nd Flr SF': 20.481039025223247,\n",
       " 'Total Bsmt SF': 21.268480708747013,\n",
       " 'BsmtFin SF 1': 22.90060003114379,\n",
       " 'Mas Vnr Area': 24.183815896379507,\n",
       " 'Gr Liv Area': 32.50599070032064,\n",
       " 'Year Remod/Add': 48.164461619899015,\n",
       " 'Screen Porch': 59.80319073191634,\n",
       " 'Lot Frontage': 64.32828062709865,\n",
       " 'Condition 2_Feedr': 80.0342845972291,\n",
       " 'Mo Sold_6': 109.26122948947786,\n",
       " 'Neighborhood_BrkSide': 128.76424806247644,\n",
       " 'MS SubClass_20': 142.28370438491632,\n",
       " 'bedbathbeyond': 185.64314126386668,\n",
       " 'Exterior 1st_CBlock': 209.990409575056,\n",
       " 'Foundation_PConc': 214.32247657439072,\n",
       " 'MS Zoning_I (all)': 238.22786181676406,\n",
       " 'Year Built': 299.90620657734524,\n",
       " 'Garage Finish_Unf': 328.3981495946869,\n",
       " 'MS SubClass_80': 374.68902348294813,\n",
       " 'Land Contour_Bnk': 541.5069612112251,\n",
       " 'House Style_2.5Unf': 580.9330191843701,\n",
       " 'House Style_SLvl': 596.629197156719,\n",
       " 'Garage Type_Attchd': 611.5974810056995,\n",
       " 'Electrical_Mix': 626.5514256655592,\n",
       " 'Lot Config_Inside': 640.7062262631082,\n",
       " 'TotRms AbvGrd': 684.3209636257662,\n",
       " 'Garage Finish_Fin': 775.8952638290317,\n",
       " 'Half Bath': 885.7461648256839,\n",
       " 'Exterior 1st_VinylSd': 898.4952116066753,\n",
       " 'Mo Sold_9': 900.8933564548288,\n",
       " 'Functional_Maj2': 920.5639288093863,\n",
       " 'Exterior 2nd_AsphShn': 985.0289491893842,\n",
       " 'MS SubClass_40': 1023.9451681415211,\n",
       " 'Lot Shape_IR1': 1116.5087310120873,\n",
       " 'Mo Sold_1': 1130.8603409546893,\n",
       " 'Land Slope_Gtl': 1135.2023522019895,\n",
       " 'overallcondqual': 1237.7675528180819,\n",
       " 'Exterior 2nd_VinylSd': 1242.1659134495828,\n",
       " 'Heating QC': 1305.5983920449623,\n",
       " 'Electrical_FuseP': 1306.665693582361,\n",
       " 'Bldg Type_2fmCon': 1508.5269640046229,\n",
       " 'Overall Qual': 1588.3408567746887,\n",
       " 'MS Zoning_RL': 1687.5440888930575,\n",
       " 'Condition 2_RRNn': 1741.5262361544537,\n",
       " 'Electrical_FuseF': 1854.1145243576625,\n",
       " 'MS SubClass_45': 1866.1051720973862,\n",
       " 'Garage Cars': 2001.0799158400166,\n",
       " 'Street_Pave': 2011.6134456068767,\n",
       " 'Foundation_Slab': 2087.696915445308,\n",
       " 'Central Air_N': 2143.252417701825,\n",
       " 'Lot Shape_Reg': 2272.9802640994694,\n",
       " 'MS Zoning_RH': 2291.279805119779,\n",
       " 'Heating_Wall': 2322.581152783918,\n",
       " 'BsmtFin Type 2': 2407.934739780827,\n",
       " 'Land Slope_Mod': 2448.5084149449626,\n",
       " 'Roof Style_Gambrel': 2495.308738637538,\n",
       " 'Lot Shape_IR2': 2538.2086164491584,\n",
       " 'Fireplaces': 2562.036902429433,\n",
       " 'Sale Type_CWD': 2687.561150709926,\n",
       " 'Foundation_Stone': 2713.0691303009453,\n",
       " 'Garage Type_Detchd': 2812.6327767528783,\n",
       " 'Exterior 2nd_Wd Shng': 2856.937681715951,\n",
       " 'Mo Sold_5': 2856.9755154705344,\n",
       " 'Roof Style_Gable': 2861.6045988257206,\n",
       " 'Neighborhood_Blueste': 2868.8256984066156,\n",
       " 'House Style_1Story': 2876.5522110444253,\n",
       " 'House Style_1.5Unf': 2951.4645278488606,\n",
       " 'Roof Style_Flat': 3221.5669352204163,\n",
       " 'Paved Drive_Y': 3295.898271866113,\n",
       " 'Mo Sold_7': 3438.648989433814,\n",
       " 'Bsmt Full Bath': 3480.973420975622,\n",
       " 'Garage Type_BuiltIn': 3567.684868410509,\n",
       " 'Utilities': 3632.8192613776196,\n",
       " 'Exterior 2nd_MetalSd': 3663.598068072044,\n",
       " 'MS SubClass_70': 3665.53764895497,\n",
       " 'Exterior 2nd_Wd Sdng': 3771.0544754555585,\n",
       " 'Exterior 2nd_CmentBd': 4204.559559540523,\n",
       " 'Roof Matl_Membran': 4208.461720754256,\n",
       " 'Bsmt Qual': 4478.986033510373,\n",
       " 'Garage Finish_NA': 4576.090474546307,\n",
       " 'Exterior 1st_CemntBd': 4674.244337661707,\n",
       " 'Neighborhood_Crawfor': 4799.806286828455,\n",
       " 'Neighborhood_BrDale': 4807.929938559472,\n",
       " 'Functional_Min1': 4908.062056762994,\n",
       " 'MS Zoning_FV': 4913.766280310817,\n",
       " 'Lot Config_CulDSac': 5042.779794424426,\n",
       " 'Exterior 1st_AsbShng': 5162.520354244907,\n",
       " 'Sale Type_Oth': 5302.224493096069,\n",
       " 'Neighborhood_NoRidge': 5373.312779882188,\n",
       " 'Functional_Min2': 5587.606690173861,\n",
       " 'MS SubClass_75': 5711.812464762412,\n",
       " 'Sale Type_Con': 6011.232130273198,\n",
       " 'Roof Style_Hip': 6018.064025020838,\n",
       " 'Condition 1_Norm': 6270.898485981379,\n",
       " 'Condition 2_PosA': 6397.406943451007,\n",
       " 'Heating_GasA': 6519.50479013186,\n",
       " 'Garage Type_NA': 6576.100954883995,\n",
       " 'Kitchen Qual': 6632.620931988945,\n",
       " 'Bsmt Exposure_NA': 7010.022514735529,\n",
       " 'MS SubClass_50': 7412.2668641965965,\n",
       " 'Garage Qual': 7446.099944570432,\n",
       " 'Bldg Type_1Fam': 8067.926590725159,\n",
       " 'MS SubClass_30': 8327.918293327357,\n",
       " 'Bsmt Exposure_Gd': 9253.045569607284,\n",
       " 'Neighborhood_NPkVill': 9675.74634428561,\n",
       " 'Land Contour_HLS': 9708.502989448796,\n",
       " 'Exter Qual': 10001.107230768295,\n",
       " 'Sale Type_New': 10215.803195594315,\n",
       " 'Condition 1_PosA': 10893.38848046751,\n",
       " 'Condition 1_PosN': 11988.757737167458,\n",
       " 'Roof Matl_WdShngl': 12797.38886745197,\n",
       " 'Functional_Typ': 15869.936539704193,\n",
       " 'Exterior 1st_BrkFace': 16884.099632011596,\n",
       " 'Neighborhood_NridgHt': 19642.16814582153,\n",
       " 'Neighborhood_GrnHill': 25187.60355240384,\n",
       " 'Neighborhood_StoneBr': 26950.53374218123}"
      ]
     },
     "execution_count": 34,
     "metadata": {},
     "output_type": "execute_result"
    }
   ],
   "source": [
    "# Organizing dictionary. Code found from Devin Jeanpierre's response on Stack Overflow\n",
    "\n",
    "{k: v for k, v in sorted(coef.items(), key=lambda item: item[1])}"
   ]
  },
  {
   "cell_type": "markdown",
   "id": "a37c403f-34c7-4387-a1a0-27615a13ccb2",
   "metadata": {},
   "source": [
    "# VI. Conclusions"
   ]
  },
  {
   "cell_type": "markdown",
   "id": "559311f9-df0b-40c0-85ca-1f8ca673a10d",
   "metadata": {},
   "source": [
    "The ridge regression model had the best predictive performance on housing sale price in Ames, Iowa, and outperformed the other linear models tested. The model revealed that Overall, Exterior, and Kitchen Quality have a high correlation with the sale price of a home. Also, categorical features that had a high correlation with sale price were poured concrete foundation, having a finished garage, and having vinyl siding for exterior covering. Features that decrease the sale price of a home include an unfinished garage, a home located within 200' of East-West Railroad, roof material of gravel and tar, and a low depression land contour.\n",
    "\n",
    "Using this final model, I am able to account for approximately 92.2% of the variation in Sale Price. With a 71% improvement from the base model, my model proves to be an efficient method of determining sale prices of homes in Ames, Iowa. With more time, an adjustment to the model would be made to increase the accuracy of predicting the sale prices in more expensive homes."
   ]
  }
 ],
 "metadata": {
  "kernelspec": {
   "display_name": "Python 3",
   "language": "python",
   "name": "python3"
  },
  "language_info": {
   "codemirror_mode": {
    "name": "ipython",
    "version": 3
   },
   "file_extension": ".py",
   "mimetype": "text/x-python",
   "name": "python",
   "nbconvert_exporter": "python",
   "pygments_lexer": "ipython3",
   "version": "3.8.8"
  }
 },
 "nbformat": 4,
 "nbformat_minor": 5
}
